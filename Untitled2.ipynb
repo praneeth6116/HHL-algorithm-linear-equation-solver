{
 "cells": [
  {
   "cell_type": "code",
   "execution_count": 1,
   "source": [
    "import numpy as np\n",
    "\n",
    "# Importing standard Qiskit libraries\n",
    "from qiskit import QuantumCircuit, transpile, Aer, IBMQ\n",
    "from qiskit.tools.jupyter import *\n",
    "from qiskit.visualization import *\n",
    "from ibm_quantum_widgets import *\n",
    "from qiskit.providers.aer import QasmSimulator\n",
    "from qiskit.algorithms.linear_solvers.hhl import HHL\n",
    "from qiskit.quantum_info import Statevector \n",
    "from qiskit.algorithms.linear_solvers.numpy_linear_solver import NumPyLinearSolver\n",
    "\n",
    "# Loading your IBM Quantum account(s)\n",
    "provider = IBMQ.load_account()"
   ],
   "outputs": [],
   "metadata": {}
  },
  {
   "cell_type": "code",
   "execution_count": null,
   "source": [
    "import re\n",
    "result = re.findall(r\"[-+]?\\d*\\.\\d+|\\d+\", string)\n",
    "print(result)\n",
    "import numpy as np\n",
    "A = np.zeros(4)\n",
    "for i in range(4) : \n",
    "  A[i] = float(result[i])\n",
    "A = A.reshape((2,2))"
   ],
   "outputs": [],
   "metadata": {}
  },
  {
   "cell_type": "code",
   "execution_count": 18,
   "source": [
    "def check_correct_hermitian(matrix, vector) : \n",
    "    \n",
    "    if (np.all(np.abs(matrix - matrix.conj().T)<1e-8)) :\n",
    "        flag = 0\n",
    "        return matrix, vector, flag\n",
    "    \n",
    "    else : \n",
    "        mat1 = np.column_stack((np.zeros((2, 2)), matrix.conj().T))\n",
    "        mat2 = np.column_stack((matrix, np.zeros((2,2)))) \n",
    "        mat = np.row_stack((mat1, mat2))\n",
    "        vec = np.row_stack((np.zeros((2,1)), vector.reshape(2,1)))\n",
    "        flag = 1\n",
    "        return mat, vec, flag"
   ],
   "outputs": [],
   "metadata": {}
  },
  {
   "cell_type": "code",
   "execution_count": 21,
   "source": [
    "def hhl_solver(matrix, vector):\n",
    "    \n",
    "    mat, vec, flag = check_correct_hermitian(matrix, vector)\n",
    "    \n",
    "    if flag == 0 :\n",
    "        \n",
    "        sol = HHL().solve(mat, vec) \n",
    "        data = Statevector(sol.state).data \n",
    "        vec1 = np.array([data[8], data[9]])\n",
    "        vec1 = np.real(vec1)\n",
    "        vec1 = sol.euclidean_norm*vec1/np.linalg.norm(vec1)\n",
    "        return sol.euclidean_norm, vec1\n",
    "        \n",
    "    elif flag == 1 : \n",
    "        \n",
    "        sol = HHL().solve(mat, vec) \n",
    "        data = Statevector(sol.state).data \n",
    "        vec1 = np.array([data[32], data[33], data[34], data[35]])\n",
    "        vec1 = np.real(vec1)\n",
    "        vec1 = sol.euclidean_norm*vec1/np.linalg.norm(vec1) \n",
    "        vec1 = vec1[0:3]\n",
    "        return sol.euclidean_norm, vec1\n",
    "    "
   ],
   "outputs": [],
   "metadata": {}
  },
  {
   "cell_type": "code",
   "execution_count": 27,
   "source": [
    "from qiskit.algorithms.linear_solvers.numpy_linear_solver import NumPyLinearSolver"
   ],
   "outputs": [],
   "metadata": {}
  },
  {
   "cell_type": "code",
   "execution_count": 28,
   "source": [
    "def check_classical(matrix, vector):\n",
    "    \n",
    "    classical_solution = NumPyLinearSolver().solve(matrix, vector/np.linalg.norm(vector))\n",
    "    classical_vector = classical_solution.state\n",
    "    classical_norm = classical_solution.euclidean_norm\n",
    "    return classical_vector, classical_norm"
   ],
   "outputs": [],
   "metadata": {}
  },
  {
   "cell_type": "code",
   "execution_count": null,
   "source": [
    "def hhl(A,b):\n",
    "    str1 =  not godly, noise, depth, igh, expecting great errors !!!\" \n",
    "    str2 = \"Expecting intermediate errors\"\n",
    "    str3 = \"Worked like a char\"\n",
    "\n",
    "    \n",
    "    quantum_norm, quantum_vector = hhl_solver(A,b)\n",
    "    classical_vector, classical_norm =c heck_classical(A,b)\n",
    "    \n",
    "    \n",
    "    if ( abs(quantum_norm - classical_norm) <1e-4) : \n",
    "        return str3, classical_vector, quantum_vector \n",
    "    \n",
    "    elif ( abs(quantum_norm - classical_norm) >1e-4 &  abs(quantum_norm - classical_norm) <1e-2):\n",
    "        return str2,classical_vector, quantum_vector\n",
    "    else:\n",
    "        return str1,classical_vector"
   ],
   "outputs": [],
   "metadata": {}
  },
  {
   "cell_type": "code",
   "execution_count": null,
   "source": [],
   "outputs": [],
   "metadata": {}
  },
  {
   "cell_type": "code",
   "execution_count": null,
   "source": [],
   "outputs": [],
   "metadata": {}
  }
 ],
 "metadata": {
  "kernelspec": {
   "display_name": "Qiskit v0.31.0 (ipykernel)",
   "language": "python",
   "name": "python3"
  },
  "language_info": {
   "codemirror_mode": {
    "name": "ipython",
    "version": 3
   },
   "file_extension": ".py",
   "mimetype": "text/x-python",
   "name": "python",
   "nbconvert_exporter": "python",
   "pygments_lexer": "ipython3",
   "version": "3.8.10"
  },
  "widgets": {
   "application/vnd.jupyter.widget-state+json": {
    "state": {
     "07789ad2f3e948378555d6dff763e144": {
      "model_module": "@jupyter-widgets/base",
      "model_module_version": "1.2.0",
      "model_name": "LayoutModel",
      "state": {}
     },
     "0d0867d7041e47d2a8f01dfe2d1a69ab": {
      "model_module": "@jupyter-widgets/controls",
      "model_module_version": "1.5.0",
      "model_name": "GridBoxModel",
      "state": {
       "children": [
        "IPY_MODEL_cb462b869a144ec499797097711be8ef"
       ],
       "layout": "IPY_MODEL_50b30b9b3d634e71a995403bb0dce08f"
      }
     },
     "0da47ae786ef4a55b9430bd47fba8520": {
      "model_module": "@jupyter-widgets/base",
      "model_module_version": "1.2.0",
      "model_name": "LayoutModel",
      "state": {
       "width": "145px"
      }
     },
     "12d91c8920bd4538ac264adf22d1d406": {
      "model_module": "@jupyter-widgets/controls",
      "model_module_version": "1.5.0",
      "model_name": "HTMLModel",
      "state": {
       "layout": "IPY_MODEL_cbc913c2e2af430e9177bf8261d6b9f3",
       "style": "IPY_MODEL_5f2d27c26738458cb93f697f5ae2b475",
       "value": "<h5>Status</h5>"
      }
     },
     "166acf5dee5e49d58c71270b09e76a1c": {
      "model_module": "@jupyter-widgets/controls",
      "model_module_version": "1.5.0",
      "model_name": "DescriptionStyleModel",
      "state": {
       "description_width": ""
      }
     },
     "1a9a5fe89fe741ccae86eaf1b765a37a": {
      "model_module": "@jupyter-widgets/controls",
      "model_module_version": "1.5.0",
      "model_name": "DescriptionStyleModel",
      "state": {
       "description_width": ""
      }
     },
     "41416e6393a64e449dfd1c6230bbce50": {
      "model_module": "@jupyter-widgets/controls",
      "model_module_version": "1.5.0",
      "model_name": "HTMLModel",
      "state": {
       "layout": "IPY_MODEL_0da47ae786ef4a55b9430bd47fba8520",
       "style": "IPY_MODEL_166acf5dee5e49d58c71270b09e76a1c",
       "value": "<h5>Backend</h5>"
      }
     },
     "50b30b9b3d634e71a995403bb0dce08f": {
      "model_module": "@jupyter-widgets/base",
      "model_module_version": "1.2.0",
      "model_name": "LayoutModel",
      "state": {
       "grid_template_areas": "\n                                       \". . . . right \"\n                                        ",
       "grid_template_columns": "20% 20% 20% 20% 20%",
       "width": "100%"
      }
     },
     "590de4dcc4f84726b7c69264580728b4": {
      "model_module": "@jupyter-widgets/controls",
      "model_module_version": "1.5.0",
      "model_name": "HBoxModel",
      "state": {
       "children": [
        "IPY_MODEL_5d51b44575794f4488b22bbac849e6f5",
        "IPY_MODEL_41416e6393a64e449dfd1c6230bbce50",
        "IPY_MODEL_12d91c8920bd4538ac264adf22d1d406",
        "IPY_MODEL_da7d4251ba9b4deaba876c9ab3191b5b",
        "IPY_MODEL_b21f95406858419093b5b4258d3a15f7"
       ],
       "layout": "IPY_MODEL_d75decb817574133baabe71792c10d83"
      }
     },
     "5d51b44575794f4488b22bbac849e6f5": {
      "model_module": "@jupyter-widgets/controls",
      "model_module_version": "1.5.0",
      "model_name": "HTMLModel",
      "state": {
       "layout": "IPY_MODEL_95be217601224c3f8f78099ddfca8bc5",
       "style": "IPY_MODEL_1a9a5fe89fe741ccae86eaf1b765a37a",
       "value": "<h5>Job ID</h5>"
      }
     },
     "5f2d27c26738458cb93f697f5ae2b475": {
      "model_module": "@jupyter-widgets/controls",
      "model_module_version": "1.5.0",
      "model_name": "DescriptionStyleModel",
      "state": {
       "description_width": ""
      }
     },
     "6829561aec9b4d529a8e9833541bd8a5": {
      "model_module": "@jupyter-widgets/base",
      "model_module_version": "1.2.0",
      "model_name": "LayoutModel",
      "state": {
       "grid_area": "right",
       "padding": "0px 0px 0px 0px",
       "width": "70px"
      }
     },
     "7b8fa2d416df4552b658a6d77e9358ad": {
      "model_module": "@jupyter-widgets/base",
      "model_module_version": "1.2.0",
      "model_name": "LayoutModel",
      "state": {
       "margin": "0px 0px 10px 0px"
      }
     },
     "94720f7aa9954af6ba040bbd3f7d2017": {
      "model_module": "@jupyter-widgets/controls",
      "model_module_version": "1.5.0",
      "model_name": "DescriptionStyleModel",
      "state": {
       "description_width": ""
      }
     },
     "95be217601224c3f8f78099ddfca8bc5": {
      "model_module": "@jupyter-widgets/base",
      "model_module_version": "1.2.0",
      "model_name": "LayoutModel",
      "state": {
       "width": "190px"
      }
     },
     "b1261d3142f64faa8c98680553f23635": {
      "model_module": "@jupyter-widgets/controls",
      "model_module_version": "1.5.0",
      "model_name": "ButtonStyleModel",
      "state": {}
     },
     "b21f95406858419093b5b4258d3a15f7": {
      "model_module": "@jupyter-widgets/controls",
      "model_module_version": "1.5.0",
      "model_name": "HTMLModel",
      "state": {
       "layout": "IPY_MODEL_07789ad2f3e948378555d6dff763e144",
       "style": "IPY_MODEL_c7d86de0a1e149c7af7c44cb42e70f03",
       "value": "<h5>Message</h5>"
      }
     },
     "bcea81ed3e4045f9a0f713c11c5093c5": {
      "model_module": "@jupyter-widgets/base",
      "model_module_version": "1.2.0",
      "model_name": "LayoutModel",
      "state": {
       "width": "70px"
      }
     },
     "be244a1f833741f1a01cd005b9490d17": {
      "model_module": "@jupyter-widgets/controls",
      "model_module_version": "1.5.0",
      "model_name": "HTMLModel",
      "state": {
       "layout": "IPY_MODEL_7b8fa2d416df4552b658a6d77e9358ad",
       "style": "IPY_MODEL_bf464099e263454397f0013f3a5799cb",
       "value": "<p style='font-family: IBM Plex Sans, Arial, Helvetica, sans-serif; font-size: 20px; font-weight: medium;'>Circuit Properties</p>"
      }
     },
     "bf464099e263454397f0013f3a5799cb": {
      "model_module": "@jupyter-widgets/controls",
      "model_module_version": "1.5.0",
      "model_name": "DescriptionStyleModel",
      "state": {
       "description_width": ""
      }
     },
     "c7d86de0a1e149c7af7c44cb42e70f03": {
      "model_module": "@jupyter-widgets/controls",
      "model_module_version": "1.5.0",
      "model_name": "DescriptionStyleModel",
      "state": {
       "description_width": ""
      }
     },
     "cb462b869a144ec499797097711be8ef": {
      "model_module": "@jupyter-widgets/controls",
      "model_module_version": "1.5.0",
      "model_name": "ButtonModel",
      "state": {
       "button_style": "primary",
       "description": "Clear",
       "layout": "IPY_MODEL_6829561aec9b4d529a8e9833541bd8a5",
       "style": "IPY_MODEL_b1261d3142f64faa8c98680553f23635"
      }
     },
     "cbc913c2e2af430e9177bf8261d6b9f3": {
      "model_module": "@jupyter-widgets/base",
      "model_module_version": "1.2.0",
      "model_name": "LayoutModel",
      "state": {
       "width": "95px"
      }
     },
     "d75decb817574133baabe71792c10d83": {
      "model_module": "@jupyter-widgets/base",
      "model_module_version": "1.2.0",
      "model_name": "LayoutModel",
      "state": {
       "margin": "0px 0px 0px 37px",
       "width": "600px"
      }
     },
     "da7d4251ba9b4deaba876c9ab3191b5b": {
      "model_module": "@jupyter-widgets/controls",
      "model_module_version": "1.5.0",
      "model_name": "HTMLModel",
      "state": {
       "layout": "IPY_MODEL_bcea81ed3e4045f9a0f713c11c5093c5",
       "style": "IPY_MODEL_94720f7aa9954af6ba040bbd3f7d2017",
       "value": "<h5>Queue</h5>"
      }
     }
    },
    "version_major": 2,
    "version_minor": 0
   }
  }
 },
 "nbformat": 4,
 "nbformat_minor": 5
}