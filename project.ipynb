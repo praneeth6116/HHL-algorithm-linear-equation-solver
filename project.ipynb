{
 "cells": [
  {
   "cell_type": "code",
   "execution_count": null,
   "source": [
    "import numpy as np\n",
    "\n",
    "# Importing standard Qiskit libraries\n",
    "from qiskit import QuantumCircuit\n",
    "from qiskit.algorithms.linear_solvers.hhl import HHL\n",
    "from qiskit.quantum_info import Statevector \n",
    "from qiskit.algorithms.linear_solvers.numpy_linear_solver import NumPyLinearSolver\n",
    "\n",
    "\n",
    "\n",
    "\n",
    "from qiskit.algorithms.linear_solvers.numpy_linear_solver import NumPyLinearSolver\n",
    "\n"
   ],
   "outputs": [],
   "metadata": {}
  },
  {
   "cell_type": "code",
   "execution_count": null,
   "source": [
    "def check_correct_hermitian(matrix, vector) : \n",
    "    \n",
    "    if (np.all(np.abs(matrix - matrix.conj().T)<1e-8)) :\n",
    "        flag = 0\n",
    "        return matrix, vector, flag\n",
    "    \n",
    "    else : \n",
    "        mat1 = np.column_stack((np.zeros((2, 2)), matrix.conj().T))\n",
    "        mat2 = np.column_stack((matrix, np.zeros((2,2)))) \n",
    "        mat = np.row_stack((mat1, mat2))\n",
    "        vec = np.row_stack((np.zeros((2,1)), vector.reshape(2,1)))\n",
    "        flag = 1\n",
    "        return mat, vec, flag"
   ],
   "outputs": [],
   "metadata": {}
  },
  {
   "cell_type": "code",
   "execution_count": null,
   "source": [
    "def hhl_solver(matrix, vector):\n",
    "    \n",
    "    mat, vec, flag = check_correct_hermitian(matrix, vector)\n",
    "    \n",
    "    if flag == 0 :\n",
    "        \n",
    "        sol = HHL().solve(mat, vec) \n",
    "        data = Statevector(sol.state).data \n",
    "        vec1 = np.array([data[8], data[9]])\n",
    "        vec1 = np.real(vec1)\n",
    "        vec1 = sol.euclidean_norm*vec1/np.linalg.norm(vec1)\n",
    "        return sol.euclidean_norm, vec1\n",
    "        \n",
    "    elif flag == 1 : \n",
    "        \n",
    "        sol = HHL().solve(mat, vec) \n",
    "        data = Statevector(sol.state).data \n",
    "        vec1 = np.array([data[32], data[33], data[34], data[35]])\n",
    "        vec1 = np.real(vec1)\n",
    "        vec1 = sol.euclidean_norm*vec1/np.linalg.norm(vec1) \n",
    "        vec1 = vec1[0:3]\n",
    "        return sol.euclidean_norm, vec1"
   ],
   "outputs": [],
   "metadata": {}
  },
  {
   "cell_type": "code",
   "execution_count": null,
   "source": [
    "\n",
    "from qiskit.algorithms.linear_solvers.numpy_linear_solver import NumPyLinearSolver\n",
    "\n",
    "def check_classical(matrix, vector):\n",
    "    \n",
    "    classical_solution = NumPyLinearSolver().solve(matrix, vector/np.linalg.norm(vector))\n",
    "    classical_vector = classical_solution.state\n",
    "    classical_norm = classical_solution.euclidean_norm\n",
    "    return classical_vector, classical_norm"
   ],
   "outputs": [],
   "metadata": {}
  },
  {
   "cell_type": "code",
   "execution_count": null,
   "source": [
    "\n",
    "def hhl(A,b):\n",
    "    \n",
    "    str1 = \"HHL is not godly, noise, depth, igh, expecting great errors !!!\" \n",
    "    str2 = \"Expecting intermediate errors\"\n",
    "    str3 = \"Worked like a charm\"\n",
    "\n",
    "    import re\n",
    "    result = re.findall(r\"[-+]?\\d*\\.\\d+|\\d+\", A)\n",
    "    matrix = np.zeros(4)\n",
    "    for i in range(4) : \n",
    "      matrix[i] = float(result[i])\n",
    "\n",
    "    matrix = matrix.reshape((2,2))\n",
    "\n",
    "    result = re.findall(r\"[-+]?\\d*\\.\\d+|\\d+\", b)\n",
    "    vector = np.zeros(2)\n",
    "    for i in range(2) : \n",
    "      vector[i] = float(result[i])\n",
    "\n",
    "    \n",
    "    quantum_norm, quantum_vector = hhl_solver(matrix,vector)\n",
    "    classical_vector, classical_norm =check_classical(matrix,vector)\n",
    "\n",
    "    quantum_vector = quantum_vector*np.linalg.norm(b)\n",
    "    classical_vector = classical_vector*np.linalg.norm(b)\n",
    "    \n",
    "    if ( abs(quantum_norm - classical_norm) <1e-4) : \n",
    "        stmt = str(str3) + \"... Classical_x = \" + str(classical_vector) + \"... Quantum_x = \" +str(quantum_vector)\n",
    "        return stmt \n",
    "    \n",
    "    elif ( abs(quantum_norm - classical_norm) >1e-4  and abs(quantum_norm - classical_norm) <1e-1):\n",
    "        stmt = str(str2) + \"... Classical_x = \" + str(classical_vector) + \"... Quantum_x = \" +str(quantum_vector)\n",
    "        return stmt\n",
    "    else:\n",
    "        stmt = str(str1) + \"... Classical_x = \" + str(classical_vector)\n",
    "        return stmt"
   ],
   "outputs": [],
   "metadata": {}
  }
 ],
 "metadata": {
  "orig_nbformat": 4,
  "language_info": {
   "name": "python"
  }
 },
 "nbformat": 4,
 "nbformat_minor": 2
}